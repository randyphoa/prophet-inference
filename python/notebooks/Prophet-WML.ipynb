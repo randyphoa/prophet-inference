{
 "cells": [
  {
   "cell_type": "markdown",
   "metadata": {},
   "source": [
    "# Making predictions with Prophet on IBM Watson Machine Learning"
   ]
  },
  {
   "cell_type": "markdown",
   "metadata": {},
   "source": [
    "<div>\n",
    "<img src=\"https://miro.medium.com/max/1400/1*PRu54C1ggbvV2-InBOE0xw.jpeg\" width=\"500\"/>\n",
    "</div>\n"
   ]
  },
  {
   "cell_type": "markdown",
   "metadata": {},
   "source": [
    "In this notebook, I demonstrate a simple example of how you can make predictions with Prophet on Watson Machine Learning (WML).\n",
    "\n",
    "As WML does not natively support Prophet, we will need to create a wrapper function which allows us to install custom packages.\n",
    "\n",
    "As discussed in my post, we are not able to install Prophet directly in WML environment thus, I have created the [Prophet Inference](https://github.com/randyphoa/prophet-inference) package which is a light weight inference-only version of Prophet.\n",
    "\n",
    "I will be extending the [simple example](https://facebook.github.io/prophet/docs/quick_start.html) from Prophet based on the [Peyton Manning dataset](https://github.com/facebook/prophet/blob/master/examples/example_wp_log_peyton_manning.csv).\n",
    "\n",
    "More details can be found at at [Making predictions with Prophet on IBM Watson Machine Learning](https://medium.com/@randyphoa/making-predictions-with-prophet-on-ibm-watson-machine-learning-abc42ca129f3). "
   ]
  },
  {
   "cell_type": "markdown",
   "metadata": {},
   "source": [
    "## Install required packages\n",
    "Refer to https://facebook.github.io/prophet/docs/installation.html if you encounter issues installing fbprophet.\n"
   ]
  },
  {
   "cell_type": "code",
   "execution_count": null,
   "metadata": {},
   "outputs": [],
   "source": [
    "! pip install fbprophet fbprophet-inference "
   ]
  },
  {
   "cell_type": "markdown",
   "metadata": {},
   "source": [
    "## Import packages"
   ]
  },
  {
   "cell_type": "code",
   "execution_count": null,
   "metadata": {},
   "outputs": [],
   "source": [
    "import io\n",
    "import os\n",
    "import sys\n",
    "import json\n",
    "import boto3\n",
    "import pickle\n",
    "import datetime\n",
    "import pandas as pd\n",
    "from fbprophet import Prophet\n",
    "import fbprophet_inference\n",
    "from fbprophet_inference import ProphetInference, serialize\n",
    "from watson_machine_learning_client import WatsonMachineLearningAPIClient\n",
    "\n",
    "client_cos = boto3.client(\"s3\", endpoint_url=\"x\", aws_access_key_id=\"x\", aws_secret_access_key=\"x\", region_name=\"x\")\n",
    "\n",
    "def read(key):\n",
    "    return client_cos.get_object(Bucket=\"cloud-object-storage-cpd-data\", Key=key)[\"Body\"].read()\n",
    "\n",
    "def write(obj, key):\n",
    "    client_cos.put_object(Bucket=\"cloud-object-storage-cpd-data\", Key=key, Body=io.StringIO(model_json).getvalue())\n",
    "    \n",
    "wml_credentials = {\n",
    "    \"token\": os.environ[\"USER_ACCESS_TOKEN\"],\n",
    "    \"instance_id\" : \"wml_local\",\n",
    "    \"url\": os.environ[\"RUNTIME_ENV_APSX_URL\"],\n",
    "    \"version\": \"2.5.0\"\n",
    "}\n",
    "\n",
    "def guid_from_space_name(client, space_name):\n",
    "    instance_details = client.service_instance.get_details()\n",
    "    space = client.spaces.get_details()\n",
    "    return(next(item for item in space[\"resources\"] if item[\"entity\"][\"name\"] == space_name)[\"metadata\"][\"guid\"])\n",
    "\n",
    "client = WatsonMachineLearningAPIClient(wml_credentials)\n",
    "space_uid = guid_from_space_name(client, \"Deployment Space\")\n",
    "client.set.default_space(space_uid)"
   ]
  },
  {
   "cell_type": "markdown",
   "metadata": {},
   "source": [
    "## Fit model on historical data"
   ]
  },
  {
   "cell_type": "code",
   "execution_count": 3,
   "metadata": {},
   "outputs": [
    {
     "data": {
      "text/plain": [
       "<fbprophet.forecaster.Prophet at 0x7f2b85e38e48>"
      ]
     },
     "execution_count": 3,
     "metadata": {},
     "output_type": "execute_result"
    }
   ],
   "source": [
    "df = pd.read_csv(\"https://raw.githubusercontent.com/facebook/prophet/master/examples/example_wp_log_peyton_manning.csv\")\n",
    "m = Prophet()\n",
    "m.fit(df)"
   ]
  },
  {
   "cell_type": "markdown",
   "metadata": {},
   "source": [
    "### Last date in dataset"
   ]
  },
  {
   "cell_type": "code",
   "execution_count": 4,
   "metadata": {},
   "outputs": [
    {
     "data": {
      "text/html": [
       "<div>\n",
       "<style scoped>\n",
       "    .dataframe tbody tr th:only-of-type {\n",
       "        vertical-align: middle;\n",
       "    }\n",
       "\n",
       "    .dataframe tbody tr th {\n",
       "        vertical-align: top;\n",
       "    }\n",
       "\n",
       "    .dataframe thead th {\n",
       "        text-align: right;\n",
       "    }\n",
       "</style>\n",
       "<table border=\"1\" class=\"dataframe\">\n",
       "  <thead>\n",
       "    <tr style=\"text-align: right;\">\n",
       "      <th></th>\n",
       "      <th>ds</th>\n",
       "      <th>y</th>\n",
       "    </tr>\n",
       "  </thead>\n",
       "  <tbody>\n",
       "    <tr>\n",
       "      <th>2904</th>\n",
       "      <td>2016-01-20</td>\n",
       "      <td>8.891374</td>\n",
       "    </tr>\n",
       "  </tbody>\n",
       "</table>\n",
       "</div>"
      ],
      "text/plain": [
       "              ds         y\n",
       "2904  2016-01-20  8.891374"
      ]
     },
     "execution_count": 4,
     "metadata": {},
     "output_type": "execute_result"
    }
   ],
   "source": [
    "df.tail(1)"
   ]
  },
  {
   "cell_type": "markdown",
   "metadata": {},
   "source": [
    "## Predict 2 weeks ahead from 2016-01-21 to 2016-02-02"
   ]
  },
  {
   "cell_type": "code",
   "execution_count": 5,
   "metadata": {},
   "outputs": [],
   "source": [
    "df_pred = pd.date_range(start=\"2016-01-21\", periods=14, freq=\"D\").to_frame(name=\"ds\")\n",
    "prophet_pred = m.predict(df_pred)[[\"ds\", \"yhat\"]]"
   ]
  },
  {
   "cell_type": "markdown",
   "metadata": {},
   "source": [
    "## Export model parameters to json\n",
    "Model parameters are estimated from the fit function that was called earlier.\n",
    "\n",
    "Save exported model to Cloud Object Storage."
   ]
  },
  {
   "cell_type": "code",
   "execution_count": 6,
   "metadata": {},
   "outputs": [],
   "source": [
    "model_json = fbprophet_inference.serialize.model_to_json(m)\n",
    "write(model_json, \"model_json.json\")\n",
    "# list(dict(json.loads(model_json)).keys())"
   ]
  },
  {
   "cell_type": "markdown",
   "metadata": {},
   "source": [
    "## Create function to be deployed to WML\n",
    "\n",
    "The below function creates a wrapper around the score function where we can install custom packages,\n",
    "\n",
    "In this example, I have exported my model parameters to Cloud Object Store. Other options are storing it as an asset within Cloud Pak for Data or downloading from an external location like GitHub if the model parameters are not confidential."
   ]
  },
  {
   "cell_type": "code",
   "execution_count": 7,
   "metadata": {},
   "outputs": [],
   "source": [
    "def func():\n",
    "    import subprocess\n",
    "    subprocess.check_output(\"pip install fbprophet-inference --user\", stderr=subprocess.PIPE, shell=True)\n",
    "    subprocess.check_output(\"pip install boto3 --user\", stderr=subprocess.PIPE, shell=True)\n",
    "    \n",
    "    import io\n",
    "    import json\n",
    "    import boto3\n",
    "    import pickle\n",
    "    import datetime\n",
    "    import pandas as pd\n",
    "    import fbprophet_inference\n",
    "    from fbprophet_inference import ProphetInference, serialize\n",
    "\n",
    "    json.JSONEncoder.default = lambda self,obj: (obj.isoformat() if isinstance(obj, datetime.datetime) else None)    \n",
    "    client_cos = boto3.client(\"s3\", endpoint_url=\"x\", aws_access_key_id=\"x\", aws_secret_access_key=\"x\", region_name=\"ap-geo\")\n",
    "    \n",
    "    model_json = client_cos.get_object(Bucket=\"cloud-object-storage-cpd-data\", Key=\"model_json.json\")[\"Body\"].read().decode(\"utf_8\")\n",
    "    model = fbprophet_inference.serialize.model_from_json(model_json)\n",
    "    \n",
    "    def score(payload):\n",
    "        date_from, date_to = payload[\"input_data\"][0][\"values\"][0]\n",
    "        df_pred = pd.date_range(start=date_from, end=date_to, freq=\"D\").to_frame(name=\"ds\")\n",
    "        pred = model.predict(df_pred)[[\"ds\", \"yhat\"]]\n",
    "        return {\"predictions\": [ {\"result\": [pred.to_dict()]} ]}\n",
    "    return score\n",
    "    \n",
    "# input_data = {\"input_data\": [{\"fields\": [\"DATE_FROM\", \"DATE_TO\"], \"values\": [[\"2016-01-21\", \"2016-02-02\"]]}]}\n",
    "# print(func()(input_data))"
   ]
  },
  {
   "cell_type": "markdown",
   "metadata": {},
   "source": [
    "## Deploy function to WML"
   ]
  },
  {
   "cell_type": "code",
   "execution_count": 8,
   "metadata": {},
   "outputs": [
    {
     "name": "stdout",
     "output_type": "stream",
     "text": [
      "\n",
      "\n",
      "#######################################################################################\n",
      "\n",
      "Synchronous deployment creation for uid: 'ff1b698f-e7ee-42ac-b895-f4f4a59e47f5' started\n",
      "\n",
      "#######################################################################################\n",
      "\n",
      "\n",
      "initializing...\n",
      "ready\n",
      "\n",
      "\n",
      "------------------------------------------------------------------------------------------------\n",
      "Successfully finished deployment creation, deployment_uid='dbb7ddb3-f816-446b-802f-2428db193182'\n",
      "------------------------------------------------------------------------------------------------\n",
      "\n",
      "\n",
      "dbb7ddb3-f816-446b-802f-2428db193182\n"
     ]
    }
   ],
   "source": [
    "FUNCTION_NAME = \"function-prophet-powersaving\"\n",
    "DEPLOYMENT_FUNCTION_NAME = \"function-prophet-deploy\"\n",
    "\n",
    "for deployment in client.deployments.get_details()[\"resources\"]:\n",
    "    if deployment[\"entity\"][\"name\"] == DEPLOYMENT_FUNCTION_NAME:\n",
    "        print(f\"Deleting deployment: {DEPLOYMENT_FUNCTION_NAME}\")\n",
    "        print(client.deployments.delete(deployment[\"metadata\"][\"guid\"]))\n",
    "        print()\n",
    "\n",
    "for function_detail in client.repository.get_function_details()[\"resources\"]:\n",
    "    if function_detail[\"entity\"][\"name\"] == FUNCTION_NAME:\n",
    "        print(f\"Deleting function: {FUNCTION_NAME}\")\n",
    "        print(client.repository.delete(function_detail[\"metadata\"][\"guid\"]))\n",
    "        print()\n",
    "        \n",
    "meta_data = { \n",
    "    client.repository.FunctionMetaNames.NAME : FUNCTION_NAME,\n",
    "    client.repository.FunctionMetaNames.RUNTIME_UID: \"ai-function_0.1-py3.6\"\n",
    "}\n",
    "\n",
    "function_details = client.repository.store_function(meta_props=meta_data, function=func)\n",
    "\n",
    "function_uid = client.repository.get_function_uid(function_details)\n",
    "\n",
    "meta_props = {\n",
    "   client.deployments.ConfigurationMetaNames.NAME: DEPLOYMENT_FUNCTION_NAME,\n",
    "   client.deployments.ConfigurationMetaNames.ONLINE: {}\n",
    "}\n",
    "deployment_details = client.deployments.create(function_uid, meta_props=meta_props)\n",
    "deployment_uid = client.deployments.get_uid(deployment_details)\n",
    "\n",
    "print(deployment_uid)"
   ]
  },
  {
   "cell_type": "markdown",
   "metadata": {},
   "source": [
    "## Test function"
   ]
  },
  {
   "cell_type": "code",
   "execution_count": 12,
   "metadata": {},
   "outputs": [],
   "source": [
    "scoring_payload = {\n",
    "   client.deployments.ScoringMetaNames.INPUT_DATA: [{\n",
    "        \"fields\": [\"DATE_FROM\", \"DATE_TO\"],\n",
    "        \"values\": [[\"2016-01-21\", \"2016-02-03\"]]\n",
    "    }]\n",
    "}\n",
    "\n",
    "predictions = client.deployments.score(deployment_uid, scoring_payload)\n",
    "prophet_inference_pred = pd.read_json(json.dumps(predictions[\"predictions\"][0][\"result\"][0])).sort_index()"
   ]
  },
  {
   "cell_type": "markdown",
   "metadata": {},
   "source": [
    "## Ensure results are the same between Prophet and Prophet Inference"
   ]
  },
  {
   "cell_type": "code",
   "execution_count": 10,
   "metadata": {},
   "outputs": [
    {
     "data": {
      "text/html": [
       "<div>\n",
       "<style scoped>\n",
       "    .dataframe tbody tr th:only-of-type {\n",
       "        vertical-align: middle;\n",
       "    }\n",
       "\n",
       "    .dataframe tbody tr th {\n",
       "        vertical-align: top;\n",
       "    }\n",
       "\n",
       "    .dataframe thead th {\n",
       "        text-align: right;\n",
       "    }\n",
       "</style>\n",
       "<table border=\"1\" class=\"dataframe\">\n",
       "  <thead>\n",
       "    <tr style=\"text-align: right;\">\n",
       "      <th></th>\n",
       "      <th>ds</th>\n",
       "      <th>yhat</th>\n",
       "    </tr>\n",
       "  </thead>\n",
       "  <tbody>\n",
       "    <tr>\n",
       "      <th>0</th>\n",
       "      <td>2016-01-21</td>\n",
       "      <td>8.554653</td>\n",
       "    </tr>\n",
       "    <tr>\n",
       "      <th>1</th>\n",
       "      <td>2016-01-22</td>\n",
       "      <td>8.570631</td>\n",
       "    </tr>\n",
       "    <tr>\n",
       "      <th>2</th>\n",
       "      <td>2016-01-23</td>\n",
       "      <td>8.339292</td>\n",
       "    </tr>\n",
       "    <tr>\n",
       "      <th>3</th>\n",
       "      <td>2016-01-24</td>\n",
       "      <td>8.707247</td>\n",
       "    </tr>\n",
       "    <tr>\n",
       "      <th>4</th>\n",
       "      <td>2016-01-25</td>\n",
       "      <td>9.015927</td>\n",
       "    </tr>\n",
       "    <tr>\n",
       "      <th>5</th>\n",
       "      <td>2016-01-26</td>\n",
       "      <td>8.784269</td>\n",
       "    </tr>\n",
       "    <tr>\n",
       "      <th>6</th>\n",
       "      <td>2016-01-27</td>\n",
       "      <td>8.594901</td>\n",
       "    </tr>\n",
       "    <tr>\n",
       "      <th>7</th>\n",
       "      <td>2016-01-28</td>\n",
       "      <td>8.581662</td>\n",
       "    </tr>\n",
       "    <tr>\n",
       "      <th>8</th>\n",
       "      <td>2016-01-29</td>\n",
       "      <td>8.571898</td>\n",
       "    </tr>\n",
       "    <tr>\n",
       "      <th>9</th>\n",
       "      <td>2016-01-30</td>\n",
       "      <td>8.312057</td>\n",
       "    </tr>\n",
       "    <tr>\n",
       "      <th>10</th>\n",
       "      <td>2016-01-31</td>\n",
       "      <td>8.648862</td>\n",
       "    </tr>\n",
       "    <tr>\n",
       "      <th>11</th>\n",
       "      <td>2016-02-01</td>\n",
       "      <td>8.923939</td>\n",
       "    </tr>\n",
       "    <tr>\n",
       "      <th>12</th>\n",
       "      <td>2016-02-02</td>\n",
       "      <td>8.656503</td>\n",
       "    </tr>\n",
       "    <tr>\n",
       "      <th>13</th>\n",
       "      <td>2016-02-03</td>\n",
       "      <td>8.429545</td>\n",
       "    </tr>\n",
       "  </tbody>\n",
       "</table>\n",
       "</div>"
      ],
      "text/plain": [
       "           ds      yhat\n",
       "0  2016-01-21  8.554653\n",
       "1  2016-01-22  8.570631\n",
       "2  2016-01-23  8.339292\n",
       "3  2016-01-24  8.707247\n",
       "4  2016-01-25  9.015927\n",
       "5  2016-01-26  8.784269\n",
       "6  2016-01-27  8.594901\n",
       "7  2016-01-28  8.581662\n",
       "8  2016-01-29  8.571898\n",
       "9  2016-01-30  8.312057\n",
       "10 2016-01-31  8.648862\n",
       "11 2016-02-01  8.923939\n",
       "12 2016-02-02  8.656503\n",
       "13 2016-02-03  8.429545"
      ]
     },
     "execution_count": 10,
     "metadata": {},
     "output_type": "execute_result"
    }
   ],
   "source": [
    "prophet_pred"
   ]
  },
  {
   "cell_type": "code",
   "execution_count": 13,
   "metadata": {},
   "outputs": [
    {
     "data": {
      "text/html": [
       "<div>\n",
       "<style scoped>\n",
       "    .dataframe tbody tr th:only-of-type {\n",
       "        vertical-align: middle;\n",
       "    }\n",
       "\n",
       "    .dataframe tbody tr th {\n",
       "        vertical-align: top;\n",
       "    }\n",
       "\n",
       "    .dataframe thead th {\n",
       "        text-align: right;\n",
       "    }\n",
       "</style>\n",
       "<table border=\"1\" class=\"dataframe\">\n",
       "  <thead>\n",
       "    <tr style=\"text-align: right;\">\n",
       "      <th></th>\n",
       "      <th>ds</th>\n",
       "      <th>yhat</th>\n",
       "    </tr>\n",
       "  </thead>\n",
       "  <tbody>\n",
       "    <tr>\n",
       "      <th>0</th>\n",
       "      <td>2016-01-21T00:00:00</td>\n",
       "      <td>8.554653</td>\n",
       "    </tr>\n",
       "    <tr>\n",
       "      <th>1</th>\n",
       "      <td>2016-01-22T00:00:00</td>\n",
       "      <td>8.570631</td>\n",
       "    </tr>\n",
       "    <tr>\n",
       "      <th>2</th>\n",
       "      <td>2016-01-23T00:00:00</td>\n",
       "      <td>8.339292</td>\n",
       "    </tr>\n",
       "    <tr>\n",
       "      <th>3</th>\n",
       "      <td>2016-01-24T00:00:00</td>\n",
       "      <td>8.707247</td>\n",
       "    </tr>\n",
       "    <tr>\n",
       "      <th>4</th>\n",
       "      <td>2016-01-25T00:00:00</td>\n",
       "      <td>9.015927</td>\n",
       "    </tr>\n",
       "    <tr>\n",
       "      <th>5</th>\n",
       "      <td>2016-01-26T00:00:00</td>\n",
       "      <td>8.784269</td>\n",
       "    </tr>\n",
       "    <tr>\n",
       "      <th>6</th>\n",
       "      <td>2016-01-27T00:00:00</td>\n",
       "      <td>8.594901</td>\n",
       "    </tr>\n",
       "    <tr>\n",
       "      <th>7</th>\n",
       "      <td>2016-01-28T00:00:00</td>\n",
       "      <td>8.581662</td>\n",
       "    </tr>\n",
       "    <tr>\n",
       "      <th>8</th>\n",
       "      <td>2016-01-29T00:00:00</td>\n",
       "      <td>8.571898</td>\n",
       "    </tr>\n",
       "    <tr>\n",
       "      <th>9</th>\n",
       "      <td>2016-01-30T00:00:00</td>\n",
       "      <td>8.312057</td>\n",
       "    </tr>\n",
       "    <tr>\n",
       "      <th>10</th>\n",
       "      <td>2016-01-31T00:00:00</td>\n",
       "      <td>8.648862</td>\n",
       "    </tr>\n",
       "    <tr>\n",
       "      <th>11</th>\n",
       "      <td>2016-02-01T00:00:00</td>\n",
       "      <td>8.923939</td>\n",
       "    </tr>\n",
       "    <tr>\n",
       "      <th>12</th>\n",
       "      <td>2016-02-02T00:00:00</td>\n",
       "      <td>8.656503</td>\n",
       "    </tr>\n",
       "    <tr>\n",
       "      <th>13</th>\n",
       "      <td>2016-02-03T00:00:00</td>\n",
       "      <td>8.429545</td>\n",
       "    </tr>\n",
       "  </tbody>\n",
       "</table>\n",
       "</div>"
      ],
      "text/plain": [
       "                     ds      yhat\n",
       "0   2016-01-21T00:00:00  8.554653\n",
       "1   2016-01-22T00:00:00  8.570631\n",
       "2   2016-01-23T00:00:00  8.339292\n",
       "3   2016-01-24T00:00:00  8.707247\n",
       "4   2016-01-25T00:00:00  9.015927\n",
       "5   2016-01-26T00:00:00  8.784269\n",
       "6   2016-01-27T00:00:00  8.594901\n",
       "7   2016-01-28T00:00:00  8.581662\n",
       "8   2016-01-29T00:00:00  8.571898\n",
       "9   2016-01-30T00:00:00  8.312057\n",
       "10  2016-01-31T00:00:00  8.648862\n",
       "11  2016-02-01T00:00:00  8.923939\n",
       "12  2016-02-02T00:00:00  8.656503\n",
       "13  2016-02-03T00:00:00  8.429545"
      ]
     },
     "execution_count": 13,
     "metadata": {},
     "output_type": "execute_result"
    }
   ],
   "source": [
    "prophet_inference_pred"
   ]
  }
 ],
 "metadata": {
  "kernelspec": {
   "display_name": "Python 3",
   "language": "python",
   "name": "python3"
  },
  "language_info": {
   "codemirror_mode": {
    "name": "ipython",
    "version": 3
   },
   "file_extension": ".py",
   "mimetype": "text/x-python",
   "name": "python",
   "nbconvert_exporter": "python",
   "pygments_lexer": "ipython3",
   "version": "3.6.9"
  }
 },
 "nbformat": 4,
 "nbformat_minor": 4
}
